{
 "cells": [
  {
   "cell_type": "markdown",
   "id": "universal-player",
   "metadata": {},
   "source": [
    "# analysis curve AUC_ROC with Bagging and Boosting"
   ]
  },
  {
   "cell_type": "code",
   "execution_count": 217,
   "id": "adapted-gasoline",
   "metadata": {},
   "outputs": [],
   "source": [
    "import pandas as pd\n",
    "from sklearn.model_selection import train_test_split\n",
    "from sklearn.ensemble import AdaBoostClassifier\n",
    "from sklearn.ensemble import GradientBoostingClassifier\n",
    "from sklearn.tree import DecisionTreeClassifier\n",
    "from sklearn.metrics import accuracy_score\n",
    "from sklearn.metrics import recall_score\n",
    "from sklearn.preprocessing import LabelEncoder\n",
    "from sklearn.linear_model import LogisticRegression\n",
    "from imblearn.under_sampling import RandomUnderSampler\n",
    "from sklearn.ensemble import RandomForestClassifier\n",
    "from catboost import CatBoostClassifier\n",
    "from sklearn.svm import SVC\n",
    "from sklearn.model_selection import cross_val_score\n",
    "from sklearn.metrics import roc_auc_score, accuracy_score, f1_score, confusion_matrix, classification_report\n",
    "from sklearn.naive_bayes import GaussianNB\n",
    "from sklearn.neighbors import KNeighborsClassifier\n",
    "from sklearn.metrics import roc_curve, roc_auc_score\n",
    "import matplotlib.pyplot as plt\n",
    "from sklearn.svm import SVC\n",
    "from lightgbm import LGBMClassifier\n",
    "from sklearn.linear_model import SGDClassifier"
   ]
  },
  {
   "cell_type": "markdown",
   "id": "worldwide-might",
   "metadata": {},
   "source": [
    "##### This document consists of presenting bagging and boosting techniques and making some comparisons regarding their performance.\n",
    "\n",
    "\n",
    "1. Bagging (Bootstrap Aggregating), is a method that involves training different predictors in different training sets. In this technique the classifiers are trained independently by different training sets through the initialization method.\n",
    "\n",
    "\n",
    "2. Boosting: Combining weaker learning with stronger learning. This technique is considered one of the most well-known discoveries in machine learning.\n",
    "\n",
    "In this experiment the AdaBoost model, \"Adaptive Boosting\", was also used, it is a combination of Bagging and Boosting ideas and does not require a large set of training like Boosting. That is, this method is able to build several models of machine learning, using the result of each model in the definition of a single result, thus obtaining a single final value. Which means that the aggregated responses from all models are given as the end result for each data that you are testing.\n",
    "\n",
    "It is worth mentioning that this technique involves a higher computational cost, but that, generally, it presents a good performance."
   ]
  },
  {
   "cell_type": "code",
   "execution_count": null,
   "id": "temporal-breed",
   "metadata": {},
   "outputs": [],
   "source": [
    "df_data=pd.read_csv(r\"C:\\Users\\ana.m.lima\\dados\\churn.csv\")\n",
    "df_data.head()"
   ]
  },
  {
   "cell_type": "code",
   "execution_count": 219,
   "id": "ranging-local",
   "metadata": {},
   "outputs": [
    {
     "data": {
      "text/plain": [
       "(7043, 21)"
      ]
     },
     "execution_count": 219,
     "metadata": {},
     "output_type": "execute_result"
    }
   ],
   "source": [
    "df_data.shape"
   ]
  },
  {
   "cell_type": "code",
   "execution_count": 220,
   "id": "small-exclusive",
   "metadata": {},
   "outputs": [
    {
     "data": {
      "text/html": [
       "<div>\n",
       "<style scoped>\n",
       "    .dataframe tbody tr th:only-of-type {\n",
       "        vertical-align: middle;\n",
       "    }\n",
       "\n",
       "    .dataframe tbody tr th {\n",
       "        vertical-align: top;\n",
       "    }\n",
       "\n",
       "    .dataframe thead th {\n",
       "        text-align: right;\n",
       "    }\n",
       "</style>\n",
       "<table border=\"1\" class=\"dataframe\">\n",
       "  <thead>\n",
       "    <tr style=\"text-align: right;\">\n",
       "      <th></th>\n",
       "      <th>customerID</th>\n",
       "      <th>gender</th>\n",
       "      <th>SeniorCitizen</th>\n",
       "      <th>Partner</th>\n",
       "      <th>Dependents</th>\n",
       "      <th>tenure</th>\n",
       "      <th>PhoneService</th>\n",
       "      <th>MultipleLines</th>\n",
       "      <th>InternetService</th>\n",
       "      <th>OnlineSecurity</th>\n",
       "      <th>...</th>\n",
       "      <th>DeviceProtection</th>\n",
       "      <th>TechSupport</th>\n",
       "      <th>StreamingTV</th>\n",
       "      <th>StreamingMovies</th>\n",
       "      <th>Contract</th>\n",
       "      <th>PaperlessBilling</th>\n",
       "      <th>PaymentMethod</th>\n",
       "      <th>MonthlyCharges</th>\n",
       "      <th>TotalCharges</th>\n",
       "      <th>Churn</th>\n",
       "    </tr>\n",
       "  </thead>\n",
       "  <tbody>\n",
       "    <tr>\n",
       "      <th>0</th>\n",
       "      <td>7590-VHVEG</td>\n",
       "      <td>Female</td>\n",
       "      <td>0</td>\n",
       "      <td>Yes</td>\n",
       "      <td>No</td>\n",
       "      <td>1</td>\n",
       "      <td>No</td>\n",
       "      <td>No phone service</td>\n",
       "      <td>DSL</td>\n",
       "      <td>No</td>\n",
       "      <td>...</td>\n",
       "      <td>No</td>\n",
       "      <td>No</td>\n",
       "      <td>No</td>\n",
       "      <td>No</td>\n",
       "      <td>Month-to-month</td>\n",
       "      <td>Yes</td>\n",
       "      <td>Electronic check</td>\n",
       "      <td>29.85</td>\n",
       "      <td>29.85</td>\n",
       "      <td>No</td>\n",
       "    </tr>\n",
       "    <tr>\n",
       "      <th>1</th>\n",
       "      <td>5575-GNVDE</td>\n",
       "      <td>Male</td>\n",
       "      <td>0</td>\n",
       "      <td>No</td>\n",
       "      <td>No</td>\n",
       "      <td>34</td>\n",
       "      <td>Yes</td>\n",
       "      <td>No</td>\n",
       "      <td>DSL</td>\n",
       "      <td>Yes</td>\n",
       "      <td>...</td>\n",
       "      <td>Yes</td>\n",
       "      <td>No</td>\n",
       "      <td>No</td>\n",
       "      <td>No</td>\n",
       "      <td>One year</td>\n",
       "      <td>No</td>\n",
       "      <td>Mailed check</td>\n",
       "      <td>56.95</td>\n",
       "      <td>1889.5</td>\n",
       "      <td>No</td>\n",
       "    </tr>\n",
       "    <tr>\n",
       "      <th>2</th>\n",
       "      <td>3668-QPYBK</td>\n",
       "      <td>Male</td>\n",
       "      <td>0</td>\n",
       "      <td>No</td>\n",
       "      <td>No</td>\n",
       "      <td>2</td>\n",
       "      <td>Yes</td>\n",
       "      <td>No</td>\n",
       "      <td>DSL</td>\n",
       "      <td>Yes</td>\n",
       "      <td>...</td>\n",
       "      <td>No</td>\n",
       "      <td>No</td>\n",
       "      <td>No</td>\n",
       "      <td>No</td>\n",
       "      <td>Month-to-month</td>\n",
       "      <td>Yes</td>\n",
       "      <td>Mailed check</td>\n",
       "      <td>53.85</td>\n",
       "      <td>108.15</td>\n",
       "      <td>Yes</td>\n",
       "    </tr>\n",
       "    <tr>\n",
       "      <th>3</th>\n",
       "      <td>7795-CFOCW</td>\n",
       "      <td>Male</td>\n",
       "      <td>0</td>\n",
       "      <td>No</td>\n",
       "      <td>No</td>\n",
       "      <td>45</td>\n",
       "      <td>No</td>\n",
       "      <td>No phone service</td>\n",
       "      <td>DSL</td>\n",
       "      <td>Yes</td>\n",
       "      <td>...</td>\n",
       "      <td>Yes</td>\n",
       "      <td>Yes</td>\n",
       "      <td>No</td>\n",
       "      <td>No</td>\n",
       "      <td>One year</td>\n",
       "      <td>No</td>\n",
       "      <td>Bank transfer (automatic)</td>\n",
       "      <td>42.30</td>\n",
       "      <td>1840.75</td>\n",
       "      <td>No</td>\n",
       "    </tr>\n",
       "    <tr>\n",
       "      <th>4</th>\n",
       "      <td>9237-HQITU</td>\n",
       "      <td>Female</td>\n",
       "      <td>0</td>\n",
       "      <td>No</td>\n",
       "      <td>No</td>\n",
       "      <td>2</td>\n",
       "      <td>Yes</td>\n",
       "      <td>No</td>\n",
       "      <td>Fiber optic</td>\n",
       "      <td>No</td>\n",
       "      <td>...</td>\n",
       "      <td>No</td>\n",
       "      <td>No</td>\n",
       "      <td>No</td>\n",
       "      <td>No</td>\n",
       "      <td>Month-to-month</td>\n",
       "      <td>Yes</td>\n",
       "      <td>Electronic check</td>\n",
       "      <td>70.70</td>\n",
       "      <td>151.65</td>\n",
       "      <td>Yes</td>\n",
       "    </tr>\n",
       "  </tbody>\n",
       "</table>\n",
       "<p>5 rows × 21 columns</p>\n",
       "</div>"
      ],
      "text/plain": [
       "   customerID  gender  SeniorCitizen Partner Dependents  tenure PhoneService  \\\n",
       "0  7590-VHVEG  Female              0     Yes         No       1           No   \n",
       "1  5575-GNVDE    Male              0      No         No      34          Yes   \n",
       "2  3668-QPYBK    Male              0      No         No       2          Yes   \n",
       "3  7795-CFOCW    Male              0      No         No      45           No   \n",
       "4  9237-HQITU  Female              0      No         No       2          Yes   \n",
       "\n",
       "      MultipleLines InternetService OnlineSecurity  ... DeviceProtection  \\\n",
       "0  No phone service             DSL             No  ...               No   \n",
       "1                No             DSL            Yes  ...              Yes   \n",
       "2                No             DSL            Yes  ...               No   \n",
       "3  No phone service             DSL            Yes  ...              Yes   \n",
       "4                No     Fiber optic             No  ...               No   \n",
       "\n",
       "  TechSupport StreamingTV StreamingMovies        Contract PaperlessBilling  \\\n",
       "0          No          No              No  Month-to-month              Yes   \n",
       "1          No          No              No        One year               No   \n",
       "2          No          No              No  Month-to-month              Yes   \n",
       "3         Yes          No              No        One year               No   \n",
       "4          No          No              No  Month-to-month              Yes   \n",
       "\n",
       "               PaymentMethod MonthlyCharges  TotalCharges Churn  \n",
       "0           Electronic check          29.85         29.85    No  \n",
       "1               Mailed check          56.95        1889.5    No  \n",
       "2               Mailed check          53.85        108.15   Yes  \n",
       "3  Bank transfer (automatic)          42.30       1840.75    No  \n",
       "4           Electronic check          70.70        151.65   Yes  \n",
       "\n",
       "[5 rows x 21 columns]"
      ]
     },
     "execution_count": 220,
     "metadata": {},
     "output_type": "execute_result"
    }
   ],
   "source": [
    "df_data.head()"
   ]
  },
  {
   "cell_type": "code",
   "execution_count": 221,
   "id": "warming-imperial",
   "metadata": {},
   "outputs": [],
   "source": [
    "le = LabelEncoder()\n",
    "dummy_columns = [] #array for multiple value columns\n",
    "\n",
    "for column in df_data.columns:\n",
    "    if df_data[column].dtype == object and column != 'customerID':\n",
    "        if df_data[column].nunique() == 2:\n",
    "            #apply Label Encoder for binary ones\n",
    "            df_data[column] = le.fit_transform(df_data[column]) \n",
    "        else:\n",
    "            dummy_columns.append(column)\n",
    "\n",
    "#apply get dummies for selected columns\n",
    "df_data = pd.get_dummies(data = df_data,columns = dummy_columns)"
   ]
  },
  {
   "cell_type": "code",
   "execution_count": 222,
   "id": "hollywood-faith",
   "metadata": {},
   "outputs": [],
   "source": [
    "all_columns = []\n",
    "for column in df_data.columns:\n",
    "    column = column.replace(\" \", \"_\").replace(\"(\", \"_\").replace(\")\", \"_\").replace(\"-\", \"_\")\n",
    "    all_columns.append(column)\n",
    "\n",
    "df_data.columns = all_columns"
   ]
  },
  {
   "cell_type": "code",
   "execution_count": 223,
   "id": "native-whole",
   "metadata": {},
   "outputs": [],
   "source": [
    "glm_columns = 'gender'\n",
    "\n",
    "for column in df_data.columns:\n",
    "    if column not in ['Churn','customerID','gender']:\n",
    "        glm_columns = glm_columns + ' + ' + column"
   ]
  },
  {
   "cell_type": "code",
   "execution_count": 224,
   "id": "healthy-basket",
   "metadata": {},
   "outputs": [
    {
     "data": {
      "text/html": [
       "<div>\n",
       "<style scoped>\n",
       "    .dataframe tbody tr th:only-of-type {\n",
       "        vertical-align: middle;\n",
       "    }\n",
       "\n",
       "    .dataframe tbody tr th {\n",
       "        vertical-align: top;\n",
       "    }\n",
       "\n",
       "    .dataframe thead th {\n",
       "        text-align: right;\n",
       "    }\n",
       "</style>\n",
       "<table border=\"1\" class=\"dataframe\">\n",
       "  <thead>\n",
       "    <tr style=\"text-align: right;\">\n",
       "      <th></th>\n",
       "      <th>customerID</th>\n",
       "      <th>gender</th>\n",
       "      <th>SeniorCitizen</th>\n",
       "      <th>Partner</th>\n",
       "      <th>Dependents</th>\n",
       "      <th>tenure</th>\n",
       "      <th>PhoneService</th>\n",
       "      <th>PaperlessBilling</th>\n",
       "      <th>MonthlyCharges</th>\n",
       "      <th>Churn</th>\n",
       "      <th>...</th>\n",
       "      <th>TotalCharges_995.35</th>\n",
       "      <th>TotalCharges_996.45</th>\n",
       "      <th>TotalCharges_996.85</th>\n",
       "      <th>TotalCharges_996.95</th>\n",
       "      <th>TotalCharges_997.65</th>\n",
       "      <th>TotalCharges_997.75</th>\n",
       "      <th>TotalCharges_998.1</th>\n",
       "      <th>TotalCharges_999.45</th>\n",
       "      <th>TotalCharges_999.8</th>\n",
       "      <th>TotalCharges_999.9</th>\n",
       "    </tr>\n",
       "  </thead>\n",
       "  <tbody>\n",
       "    <tr>\n",
       "      <th>0</th>\n",
       "      <td>7590-VHVEG</td>\n",
       "      <td>0</td>\n",
       "      <td>0</td>\n",
       "      <td>1</td>\n",
       "      <td>0</td>\n",
       "      <td>1</td>\n",
       "      <td>0</td>\n",
       "      <td>1</td>\n",
       "      <td>29.85</td>\n",
       "      <td>0</td>\n",
       "      <td>...</td>\n",
       "      <td>0</td>\n",
       "      <td>0</td>\n",
       "      <td>0</td>\n",
       "      <td>0</td>\n",
       "      <td>0</td>\n",
       "      <td>0</td>\n",
       "      <td>0</td>\n",
       "      <td>0</td>\n",
       "      <td>0</td>\n",
       "      <td>0</td>\n",
       "    </tr>\n",
       "    <tr>\n",
       "      <th>1</th>\n",
       "      <td>5575-GNVDE</td>\n",
       "      <td>1</td>\n",
       "      <td>0</td>\n",
       "      <td>0</td>\n",
       "      <td>0</td>\n",
       "      <td>34</td>\n",
       "      <td>1</td>\n",
       "      <td>0</td>\n",
       "      <td>56.95</td>\n",
       "      <td>0</td>\n",
       "      <td>...</td>\n",
       "      <td>0</td>\n",
       "      <td>0</td>\n",
       "      <td>0</td>\n",
       "      <td>0</td>\n",
       "      <td>0</td>\n",
       "      <td>0</td>\n",
       "      <td>0</td>\n",
       "      <td>0</td>\n",
       "      <td>0</td>\n",
       "      <td>0</td>\n",
       "    </tr>\n",
       "    <tr>\n",
       "      <th>2</th>\n",
       "      <td>3668-QPYBK</td>\n",
       "      <td>1</td>\n",
       "      <td>0</td>\n",
       "      <td>0</td>\n",
       "      <td>0</td>\n",
       "      <td>2</td>\n",
       "      <td>1</td>\n",
       "      <td>1</td>\n",
       "      <td>53.85</td>\n",
       "      <td>1</td>\n",
       "      <td>...</td>\n",
       "      <td>0</td>\n",
       "      <td>0</td>\n",
       "      <td>0</td>\n",
       "      <td>0</td>\n",
       "      <td>0</td>\n",
       "      <td>0</td>\n",
       "      <td>0</td>\n",
       "      <td>0</td>\n",
       "      <td>0</td>\n",
       "      <td>0</td>\n",
       "    </tr>\n",
       "    <tr>\n",
       "      <th>3</th>\n",
       "      <td>7795-CFOCW</td>\n",
       "      <td>1</td>\n",
       "      <td>0</td>\n",
       "      <td>0</td>\n",
       "      <td>0</td>\n",
       "      <td>45</td>\n",
       "      <td>0</td>\n",
       "      <td>0</td>\n",
       "      <td>42.30</td>\n",
       "      <td>0</td>\n",
       "      <td>...</td>\n",
       "      <td>0</td>\n",
       "      <td>0</td>\n",
       "      <td>0</td>\n",
       "      <td>0</td>\n",
       "      <td>0</td>\n",
       "      <td>0</td>\n",
       "      <td>0</td>\n",
       "      <td>0</td>\n",
       "      <td>0</td>\n",
       "      <td>0</td>\n",
       "    </tr>\n",
       "    <tr>\n",
       "      <th>4</th>\n",
       "      <td>9237-HQITU</td>\n",
       "      <td>0</td>\n",
       "      <td>0</td>\n",
       "      <td>0</td>\n",
       "      <td>0</td>\n",
       "      <td>2</td>\n",
       "      <td>1</td>\n",
       "      <td>1</td>\n",
       "      <td>70.70</td>\n",
       "      <td>1</td>\n",
       "      <td>...</td>\n",
       "      <td>0</td>\n",
       "      <td>0</td>\n",
       "      <td>0</td>\n",
       "      <td>0</td>\n",
       "      <td>0</td>\n",
       "      <td>0</td>\n",
       "      <td>0</td>\n",
       "      <td>0</td>\n",
       "      <td>0</td>\n",
       "      <td>0</td>\n",
       "    </tr>\n",
       "  </tbody>\n",
       "</table>\n",
       "<p>5 rows × 6572 columns</p>\n",
       "</div>"
      ],
      "text/plain": [
       "   customerID  gender  SeniorCitizen  Partner  Dependents  tenure  \\\n",
       "0  7590-VHVEG       0              0        1           0       1   \n",
       "1  5575-GNVDE       1              0        0           0      34   \n",
       "2  3668-QPYBK       1              0        0           0       2   \n",
       "3  7795-CFOCW       1              0        0           0      45   \n",
       "4  9237-HQITU       0              0        0           0       2   \n",
       "\n",
       "   PhoneService  PaperlessBilling  MonthlyCharges  Churn  ...  \\\n",
       "0             0                 1           29.85      0  ...   \n",
       "1             1                 0           56.95      0  ...   \n",
       "2             1                 1           53.85      1  ...   \n",
       "3             0                 0           42.30      0  ...   \n",
       "4             1                 1           70.70      1  ...   \n",
       "\n",
       "   TotalCharges_995.35  TotalCharges_996.45  TotalCharges_996.85  \\\n",
       "0                    0                    0                    0   \n",
       "1                    0                    0                    0   \n",
       "2                    0                    0                    0   \n",
       "3                    0                    0                    0   \n",
       "4                    0                    0                    0   \n",
       "\n",
       "   TotalCharges_996.95  TotalCharges_997.65  TotalCharges_997.75  \\\n",
       "0                    0                    0                    0   \n",
       "1                    0                    0                    0   \n",
       "2                    0                    0                    0   \n",
       "3                    0                    0                    0   \n",
       "4                    0                    0                    0   \n",
       "\n",
       "   TotalCharges_998.1  TotalCharges_999.45  TotalCharges_999.8  \\\n",
       "0                   0                    0                   0   \n",
       "1                   0                    0                   0   \n",
       "2                   0                    0                   0   \n",
       "3                   0                    0                   0   \n",
       "4                   0                    0                   0   \n",
       "\n",
       "   TotalCharges_999.9  \n",
       "0                   0  \n",
       "1                   0  \n",
       "2                   0  \n",
       "3                   0  \n",
       "4                   0  \n",
       "\n",
       "[5 rows x 6572 columns]"
      ]
     },
     "execution_count": 224,
     "metadata": {},
     "output_type": "execute_result"
    }
   ],
   "source": [
    "df_data.head()"
   ]
  },
  {
   "cell_type": "code",
   "execution_count": 225,
   "id": "sticky-identification",
   "metadata": {},
   "outputs": [],
   "source": [
    "X=df_data.drop(['Churn', 'customerID'], axis = 1)\n",
    "y=df_data['Churn']"
   ]
  },
  {
   "cell_type": "code",
   "execution_count": 226,
   "id": "orange-joshua",
   "metadata": {},
   "outputs": [],
   "source": [
    "X_train, X_test, y_train, y_test = train_test=train_test_split(X,y, stratify=y, shuffle=True, \\\n",
    "                                                              test_size=0.2, random_state=44)"
   ]
  },
  {
   "cell_type": "code",
   "execution_count": 227,
   "id": "composed-purse",
   "metadata": {},
   "outputs": [
    {
     "data": {
      "text/plain": [
       "0    1495\n",
       "1    1495\n",
       "Name: Churn, dtype: int64"
      ]
     },
     "execution_count": 227,
     "metadata": {},
     "output_type": "execute_result"
    }
   ],
   "source": [
    "RUS=RandomUnderSampler()\n",
    "X_train_RUS, y_train_RUS = RUS.fit_sample(X_train, y_train)\n",
    "y_train_RUS.value_counts()\n"
   ]
  },
  {
   "cell_type": "markdown",
   "id": "traditional-steps",
   "metadata": {},
   "source": [
    "## Random Forest X DecisionTree"
   ]
  },
  {
   "cell_type": "code",
   "execution_count": 228,
   "id": "willing-shell",
   "metadata": {},
   "outputs": [
    {
     "data": {
      "text/plain": [
       "RandomForestClassifier(n_estimators=500)"
      ]
     },
     "execution_count": 228,
     "metadata": {},
     "output_type": "execute_result"
    }
   ],
   "source": [
    "rf=RandomForestClassifier(n_estimators=500)\n",
    "rf.fit(X_train_RUS, y_train_RUS)"
   ]
  },
  {
   "cell_type": "code",
   "execution_count": 229,
   "id": "lesbian-prayer",
   "metadata": {},
   "outputs": [
    {
     "data": {
      "text/plain": [
       "DecisionTreeClassifier(max_depth=5, random_state=42)"
      ]
     },
     "execution_count": 229,
     "metadata": {},
     "output_type": "execute_result"
    }
   ],
   "source": [
    "dt=DecisionTreeClassifier(max_depth=5, random_state=42)\n",
    "dt.fit(X_train_RUS, y_train_RUS)"
   ]
  },
  {
   "cell_type": "code",
   "execution_count": 230,
   "id": "inside-vacation",
   "metadata": {},
   "outputs": [],
   "source": [
    "r_probs=[0 for _ in range(len(y_test))]\n",
    "rf_probs = rf.predict_proba(X_test)\n",
    "dt_probs = dt.predict_proba(X_test)"
   ]
  },
  {
   "cell_type": "code",
   "execution_count": 231,
   "id": "developed-instrument",
   "metadata": {},
   "outputs": [],
   "source": [
    "rf_probs = rf_probs[:, 1]\n",
    "dt_probs = dt_probs [:, 1]"
   ]
  },
  {
   "cell_type": "code",
   "execution_count": 232,
   "id": "systematic-transmission",
   "metadata": {},
   "outputs": [],
   "source": [
    "r_auc = roc_auc_score(y_test, r_probs)\n",
    "rf_auc=roc_auc_score(y_test, rf_probs)\n",
    "dt_auc=roc_auc_score(y_test, dt_probs)"
   ]
  },
  {
   "cell_type": "code",
   "execution_count": 233,
   "id": "hybrid-integral",
   "metadata": {},
   "outputs": [
    {
     "name": "stdout",
     "output_type": "stream",
     "text": [
      "Random (chance) Prediction: AUROC = 0.500\n",
      "Random Forest: AUROC = 0.846\n",
      "Decision Tree: AUROC = 0.849\n"
     ]
    }
   ],
   "source": [
    "print('Random (chance) Prediction: AUROC = %.3f' % (r_auc))\n",
    "print('Random Forest: AUROC = %.3f' % (rf_auc))\n",
    "print('Decision Tree: AUROC = %.3f' % (dt_auc))"
   ]
  },
  {
   "cell_type": "code",
   "execution_count": 234,
   "id": "compact-testing",
   "metadata": {},
   "outputs": [],
   "source": [
    "r_fpr, r_tpr, _ = roc_curve(y_test, r_probs)\n",
    "rf_fpr, rf_tpr, _ = roc_curve(y_test, rf_probs)\n",
    "dt_fpr, dt_tpr, _ = roc_curve(y_test, dt_probs)"
   ]
  },
  {
   "cell_type": "code",
   "execution_count": 235,
   "id": "aware-wrestling",
   "metadata": {},
   "outputs": [
    {
     "data": {
      "image/png": "[encoded data removed]",
      "text/plain": [
       "<Figure size 432x288 with 1 Axes>"
      ]
     },
     "metadata": {
      "needs_background": "light"
     },
     "output_type": "display_data"
    }
   ],
   "source": [
    "plt.plot(r_fpr, r_tpr, linestyle='--', label='Random Prediction (AUROC = 0%.3F)' % r_auc)\n",
    "plt.plot(rf_fpr, rf_tpr, marker='.', label='Random Forest (AUCROC = 0%.3F)' % rf_auc)\n",
    "plt.plot(dt_fpr, dt_tpr, marker='.', label='Decision Tree (AUCROC= 0%.3F)' % dt_auc)\n",
    "\n",
    "#Title\n",
    "plt.title('ROC plot')\n",
    "#Axis Labels\n",
    "plt.xlabel('False positive Rate')\n",
    "plt.ylabel('True positive Rate')\n",
    "#Show legend\n",
    "plt.legend()\n",
    "#show plot\n",
    "plt.show()"
   ]
  },
  {
   "cell_type": "code",
   "execution_count": 236,
   "id": "seventh-senate",
   "metadata": {},
   "outputs": [
    {
     "name": "stdout",
     "output_type": "stream",
     "text": [
      "RF 0.846:\n",
      "DT 0.849:\n"
     ]
    }
   ],
   "source": [
    "print ('RF %.3f:' % rf_auc)\n",
    "print ('DT %.3f:' % dt_auc)"
   ]
  },
  {
   "cell_type": "markdown",
   "id": "applied-customer",
   "metadata": {},
   "source": [
    "## Knn and Naive Bayes"
   ]
  },
  {
   "cell_type": "code",
   "execution_count": 237,
   "id": "proprietary-audio",
   "metadata": {},
   "outputs": [],
   "source": [
    "n_neighbors=21"
   ]
  },
  {
   "cell_type": "code",
   "execution_count": 238,
   "id": "expired-preparation",
   "metadata": {},
   "outputs": [
    {
     "data": {
      "text/plain": [
       "KNeighborsClassifier(n_neighbors=21)"
      ]
     },
     "execution_count": 238,
     "metadata": {},
     "output_type": "execute_result"
    }
   ],
   "source": [
    "knn=KNeighborsClassifier(n_neighbors=n_neighbors)\n",
    "knn.fit(X_train_RUS, y_train_RUS)"
   ]
  },
  {
   "cell_type": "code",
   "execution_count": 166,
   "id": "cardiac-preserve",
   "metadata": {},
   "outputs": [
    {
     "data": {
      "text/plain": [
       "GaussianNB()"
      ]
     },
     "execution_count": 166,
     "metadata": {},
     "output_type": "execute_result"
    }
   ],
   "source": [
    "nb=GaussianNB()\n",
    "nb.fit(X_train_RUS, y_train_RUS)"
   ]
  },
  {
   "cell_type": "markdown",
   "id": "facial-hostel",
   "metadata": {},
   "source": [
    "### Prediction probabilites"
   ]
  },
  {
   "cell_type": "code",
   "execution_count": 167,
   "id": "square-april",
   "metadata": {},
   "outputs": [],
   "source": [
    "r_probs=[0 for _ in range(len(y_test))]\n",
    "knn_probs = knn.predict_proba(X_test)\n",
    "nb_probs = nb.predict_proba(X_test)"
   ]
  },
  {
   "cell_type": "markdown",
   "id": "formed-craps",
   "metadata": {},
   "source": [
    "Probabilidade para manter o resultado positivo "
   ]
  },
  {
   "cell_type": "code",
   "execution_count": 168,
   "id": "formed-hospital",
   "metadata": {},
   "outputs": [],
   "source": [
    "knn_probs = knn_probs[:, 1]\n",
    "nb_probs = nb_probs [:, 1]"
   ]
  },
  {
   "cell_type": "markdown",
   "id": "convertible-horror",
   "metadata": {},
   "source": [
    "## Computing AUROC and ROC curve values\n",
    "\n",
    "Roc é a caracteristica de operação do receptor AUROC é a área sob curva ROC"
   ]
  },
  {
   "cell_type": "code",
   "execution_count": 169,
   "id": "returning-regression",
   "metadata": {},
   "outputs": [],
   "source": [
    "from sklearn.metrics import roc_curve, roc_auc_score"
   ]
  },
  {
   "cell_type": "code",
   "execution_count": 170,
   "id": "technological-intellectual",
   "metadata": {},
   "outputs": [],
   "source": [
    "r_auc = roc_auc_score(y_test, r_probs)\n",
    "knn_auc=roc_auc_score(y_test, knn_probs)\n",
    "nb_auc=roc_auc_score(y_test, nb_probs)"
   ]
  },
  {
   "cell_type": "markdown",
   "id": "overhead-geology",
   "metadata": {},
   "source": [
    "## Print AUROC scores"
   ]
  },
  {
   "cell_type": "code",
   "execution_count": 173,
   "id": "monetary-prophet",
   "metadata": {},
   "outputs": [
    {
     "name": "stdout",
     "output_type": "stream",
     "text": [
      "Random (chance) Prediction: AUROC = 0.500\n",
      "KNeighborsClassifier: AUROC = 0.839\n",
      "Naive Bayes: AUROC = 0.495\n"
     ]
    }
   ],
   "source": [
    "print('Random (chance) Prediction: AUROC = %.3f' % (r_auc))\n",
    "print('KNeighborsClassifier: AUROC = %.3f' % (knn_auc))\n",
    "print('Naive Bayes: AUROC = %.3f' % (nb_auc))"
   ]
  },
  {
   "cell_type": "markdown",
   "id": "unauthorized-assault",
   "metadata": {},
   "source": [
    " ## Calculando curva de ROC"
   ]
  },
  {
   "cell_type": "code",
   "execution_count": 174,
   "id": "editorial-stake",
   "metadata": {},
   "outputs": [],
   "source": [
    "r_fpr, r_tpr, _ = roc_curve(y_test, r_probs)\n",
    "knn_fpr, knn_tpr, _ = roc_curve(y_test, knn_probs)\n",
    "nb_fpr, nb_tpr, _ = roc_curve(y_test, nb_probs)"
   ]
  },
  {
   "cell_type": "markdown",
   "id": "banner-stream",
   "metadata": {},
   "source": [
    "## Plot the ROC curve "
   ]
  },
  {
   "cell_type": "code",
   "execution_count": 175,
   "id": "prerequisite-dietary",
   "metadata": {},
   "outputs": [],
   "source": [
    "import matplotlib.pyplot as plt"
   ]
  },
  {
   "cell_type": "code",
   "execution_count": 176,
   "id": "confused-finding",
   "metadata": {},
   "outputs": [
    {
     "data": {
      "image/png": "[encoded data removed]",
      "text/plain": [
       "<Figure size 432x288 with 1 Axes>"
      ]
     },
     "metadata": {
      "needs_background": "light"
     },
     "output_type": "display_data"
    }
   ],
   "source": [
    "plt.plot(r_fpr, r_tpr, linestyle='--', label='Random Prediction (AUROC = 0%.3F)' % r_auc)\n",
    "plt.plot(knn_fpr, knn_tpr, marker='.', label='KNeighborsClassifier (AUCROC = 0%.3F)' % knn_auc)\n",
    "plt.plot(nb_fpr, nb_tpr, marker='.', label='Naive Bayes (AUCROC= 0%.3F)' % nb_auc)\n",
    "\n",
    "#Title\n",
    "plt.title('ROC plot')\n",
    "#Axis Labels\n",
    "plt.xlabel('False positive Rate')\n",
    "plt.ylabel('True positive Rate')\n",
    "#Show legend\n",
    "plt.legend()\n",
    "#show plot\n",
    "plt.show()\n"
   ]
  },
  {
   "cell_type": "code",
   "execution_count": 177,
   "id": "changing-eagle",
   "metadata": {},
   "outputs": [
    {
     "name": "stdout",
     "output_type": "stream",
     "text": [
      "NB 0.495:\n",
      "KNN 0.839:\n"
     ]
    }
   ],
   "source": [
    "print ('NB %.3f:' % nb_auc)\n",
    "print ('KNN %.3f:' % knn_auc)"
   ]
  },
  {
   "cell_type": "markdown",
   "id": "occupied-handy",
   "metadata": {},
   "source": [
    "## Adaboost with Logistic Regression and GradientBoost"
   ]
  },
  {
   "cell_type": "code",
   "execution_count": 178,
   "id": "published-rochester",
   "metadata": {},
   "outputs": [
    {
     "data": {
      "text/plain": [
       "AdaBoostClassifier(base_estimator=LogisticRegression(max_iter=500,\n",
       "                                                     random_state=44),\n",
       "                   learning_rate=0.01, n_estimators=200)"
      ]
     },
     "execution_count": 178,
     "metadata": {},
     "output_type": "execute_result"
    }
   ],
   "source": [
    "clf2=LogisticRegression(random_state=44, max_iter=500)\n",
    "ada_clf2=AdaBoostClassifier(clf2, n_estimators=200, learning_rate=0.01)\n",
    "ada_clf2.fit(X_train_RUS, y_train_RUS)"
   ]
  },
  {
   "cell_type": "code",
   "execution_count": 179,
   "id": "noticed-brush",
   "metadata": {},
   "outputs": [
    {
     "data": {
      "text/plain": [
       "XGBClassifier(base_score=0.5, booster=None, colsample_bylevel=1,\n",
       "              colsample_bynode=1, colsample_bytree=1, gamma=0, gpu_id=-1,\n",
       "              importance_type='gain', interaction_constraints=None,\n",
       "              learning_rate=0.1, max_delta_step=0, max_depth=1,\n",
       "              min_child_weight=1, missing=nan, monotone_constraints=None,\n",
       "              n_estimators=50, n_jobs=0, num_parallel_tree=1, random_state=0,\n",
       "              reg_alpha=0, reg_lambda=1, scale_pos_weight=1, subsample=1,\n",
       "              tree_method=None, validate_parameters=False, verbosity=None)"
      ]
     },
     "execution_count": 179,
     "metadata": {},
     "output_type": "execute_result"
    }
   ],
   "source": [
    "from xgboost import XGBClassifier\n",
    "gb_clf = XGBClassifier(learning_rate = 0.1, n_estimators = 50, \n",
    "                    max_depth= 1,min_child_weight = 1)\n",
    "gb_clf.fit(X_train_RUS, y_train_RUS)"
   ]
  },
  {
   "cell_type": "code",
   "execution_count": 180,
   "id": "irish-accommodation",
   "metadata": {},
   "outputs": [],
   "source": [
    "r_probs=[0 for _ in range(len(y_test))]\n",
    "ada_clf2_probs = ada_clf2.predict_proba(X_test)\n",
    "gb_clf_probs = gb_clf.predict_proba(X_test)"
   ]
  },
  {
   "cell_type": "code",
   "execution_count": 181,
   "id": "signed-disorder",
   "metadata": {},
   "outputs": [],
   "source": [
    "ada_clf2_probs = ada_clf2_probs[:, 1]\n",
    "gb_clf_probs = gb_clf_probs [:, 1]"
   ]
  },
  {
   "cell_type": "code",
   "execution_count": 182,
   "id": "clean-nirvana",
   "metadata": {},
   "outputs": [],
   "source": [
    "r_auc = roc_auc_score(y_test, r_probs)\n",
    "ada_clf2_auc=roc_auc_score(y_test, ada_clf2_probs)\n",
    "gb_clf_auc=roc_auc_score(y_test, gb_clf_probs)"
   ]
  },
  {
   "cell_type": "code",
   "execution_count": 183,
   "id": "effective-facing",
   "metadata": {},
   "outputs": [
    {
     "name": "stdout",
     "output_type": "stream",
     "text": [
      "Random (chance) Prediction: AUROC = 0.500\n",
      "AdaBoost: AUROC = 0.844\n",
      "GradientBoost: AUROC = 0.860\n"
     ]
    }
   ],
   "source": [
    "print('Random (chance) Prediction: AUROC = %.3f' % (r_auc))\n",
    "print('AdaBoost: AUROC = %.3f' % (ada_clf2_auc))\n",
    "print('GradientBoost: AUROC = %.3f' % (gb_clf_auc))"
   ]
  },
  {
   "cell_type": "code",
   "execution_count": 184,
   "id": "comparable-pencil",
   "metadata": {},
   "outputs": [],
   "source": [
    "r_fpr, r_tpr, _ = roc_curve(y_test, r_probs)\n",
    "ada_clf2_fpr, ada_clf2_tpr, _ = roc_curve(y_test, ada_clf2_probs)\n",
    "gb_clf_fpr, gb_clf_tpr, _ = roc_curve(y_test, gb_clf_probs)"
   ]
  },
  {
   "cell_type": "code",
   "execution_count": 185,
   "id": "meaning-defensive",
   "metadata": {},
   "outputs": [
    {
     "data": {
      "image/png": "[encoded data removed]",
      "text/plain": [
       "<Figure size 432x288 with 1 Axes>"
      ]
     },
     "metadata": {
      "needs_background": "light"
     },
     "output_type": "display_data"
    }
   ],
   "source": [
    "plt.plot(r_fpr, r_tpr, linestyle='--', label='Random Prediction (AUROC = 0%.3F)' % r_auc)\n",
    "plt.plot(ada_clf2_fpr, ada_clf2_tpr, marker='.', label='AdaBoostClassifier (AUCROC = 0%.3F)' % ada_clf2_auc)\n",
    "plt.plot(gb_clf_fpr, gb_clf_tpr, marker='.', label='GradientBoostClassifier (AUCROC= 0%.3F)' % gb_clf_auc)\n",
    "\n",
    "#Title\n",
    "plt.title('ROC plot')\n",
    "#Axis Labels\n",
    "plt.xlabel('False positive Rate')\n",
    "plt.ylabel('True positive Rate')\n",
    "#Show legend\n",
    "plt.legend()\n",
    "#show plot\n",
    "plt.show()"
   ]
  },
  {
   "cell_type": "code",
   "execution_count": 186,
   "id": "sublime-market",
   "metadata": {},
   "outputs": [
    {
     "name": "stdout",
     "output_type": "stream",
     "text": [
      "Ada 0.844:\n",
      "XGB 0.860:\n"
     ]
    }
   ],
   "source": [
    "print ('Ada %.3f:' % ada_clf2_auc)\n",
    "print ('XGB %.3f:' % gb_clf_auc)"
   ]
  },
  {
   "cell_type": "markdown",
   "id": "inappropriate-techno",
   "metadata": {},
   "source": [
    "## Catboost and GradientBoost "
   ]
  },
  {
   "cell_type": "code",
   "execution_count": 187,
   "id": "abandoned-consolidation",
   "metadata": {},
   "outputs": [
    {
     "data": {
      "text/plain": [
       "XGBClassifier(base_score=0.5, booster=None, colsample_bylevel=1,\n",
       "              colsample_bynode=1, colsample_bytree=1, gamma=0, gpu_id=-1,\n",
       "              importance_type='gain', interaction_constraints=None,\n",
       "              learning_rate=0.1, max_delta_step=0, max_depth=1,\n",
       "              min_child_weight=1, missing=nan, monotone_constraints=None,\n",
       "              n_estimators=50, n_jobs=0, num_parallel_tree=1, random_state=0,\n",
       "              reg_alpha=0, reg_lambda=1, scale_pos_weight=1, subsample=1,\n",
       "              tree_method=None, validate_parameters=False, verbosity=None)"
      ]
     },
     "execution_count": 187,
     "metadata": {},
     "output_type": "execute_result"
    }
   ],
   "source": [
    "gb_clf1 = XGBClassifier(learning_rate = 0.1, n_estimators = 50, \n",
    "                    max_depth= 1,min_child_weight = 1)\n",
    "gb_clf1.fit(X_train_RUS, y_train_RUS)"
   ]
  },
  {
   "cell_type": "code",
   "execution_count": 188,
   "id": "stone-worry",
   "metadata": {},
   "outputs": [
    {
     "name": "stdout",
     "output_type": "stream",
     "text": [
      "0:\tlearn: 0.6888719\ttotal: 9.92ms\tremaining: 189ms\n",
      "1:\tlearn: 0.6848965\ttotal: 22.1ms\tremaining: 199ms\n",
      "2:\tlearn: 0.6808240\ttotal: 35.8ms\tremaining: 203ms\n",
      "3:\tlearn: 0.6771460\ttotal: 45.5ms\tremaining: 182ms\n",
      "4:\tlearn: 0.6735568\ttotal: 54.8ms\tremaining: 164ms\n",
      "5:\tlearn: 0.6702190\ttotal: 64.7ms\tremaining: 151ms\n",
      "6:\tlearn: 0.6670271\ttotal: 74.8ms\tremaining: 139ms\n",
      "7:\tlearn: 0.6636178\ttotal: 82.8ms\tremaining: 124ms\n",
      "8:\tlearn: 0.6601975\ttotal: 91.5ms\tremaining: 112ms\n",
      "9:\tlearn: 0.6571373\ttotal: 99.6ms\tremaining: 99.6ms\n",
      "10:\tlearn: 0.6541763\ttotal: 108ms\tremaining: 88ms\n",
      "11:\tlearn: 0.6515313\ttotal: 115ms\tremaining: 76.9ms\n",
      "12:\tlearn: 0.6489300\ttotal: 124ms\tremaining: 66.6ms\n",
      "13:\tlearn: 0.6461944\ttotal: 132ms\tremaining: 56.6ms\n",
      "14:\tlearn: 0.6433993\ttotal: 141ms\tremaining: 46.9ms\n",
      "15:\tlearn: 0.6404728\ttotal: 149ms\tremaining: 37.2ms\n",
      "16:\tlearn: 0.6376702\ttotal: 160ms\tremaining: 28.3ms\n",
      "17:\tlearn: 0.6348917\ttotal: 171ms\tremaining: 19ms\n",
      "18:\tlearn: 0.6323990\ttotal: 179ms\tremaining: 9.42ms\n",
      "19:\tlearn: 0.6298848\ttotal: 189ms\tremaining: 0us\n"
     ]
    },
    {
     "data": {
      "text/plain": [
       "<catboost.core.CatBoostClassifier at 0x1643d559c10>"
      ]
     },
     "execution_count": 188,
     "metadata": {},
     "output_type": "execute_result"
    }
   ],
   "source": [
    "cat = CatBoostClassifier(iterations=20, learning_rate=0.01, depth=4)\n",
    "cat.fit(X_train_RUS, y_train_RUS)"
   ]
  },
  {
   "cell_type": "code",
   "execution_count": 189,
   "id": "signal-wrong",
   "metadata": {},
   "outputs": [],
   "source": [
    "r_probs=[0 for _ in range(len(y_test))]\n",
    "gb_clf1_probs = gb_clf1.predict_proba(X_test)\n",
    "cat_probs = cat.predict_proba(X_test)"
   ]
  },
  {
   "cell_type": "code",
   "execution_count": 190,
   "id": "acquired-killing",
   "metadata": {},
   "outputs": [],
   "source": [
    "gb_clf1_probs = gb_clf1_probs[:, 1]\n",
    "cat_probs = cat_probs [:, 1]"
   ]
  },
  {
   "cell_type": "code",
   "execution_count": 191,
   "id": "precise-paragraph",
   "metadata": {},
   "outputs": [],
   "source": [
    "r_auc = roc_auc_score(y_test, r_probs)\n",
    "gb_clf1_auc=roc_auc_score(y_test, gb_clf1_probs)\n",
    "cat_auc=roc_auc_score(y_test, cat_probs)"
   ]
  },
  {
   "cell_type": "code",
   "execution_count": 192,
   "id": "living-shanghai",
   "metadata": {},
   "outputs": [
    {
     "name": "stdout",
     "output_type": "stream",
     "text": [
      "Random (chance) Prediction: AUROC = 0.500\n",
      "AdaBoost: AUROC = 0.860\n",
      "GradientBoost: AUROC = 0.851\n"
     ]
    }
   ],
   "source": [
    "print('Random (chance) Prediction: AUROC = %.3f' % (r_auc))\n",
    "print('AdaBoost: AUROC = %.3f' % (gb_clf1_auc))\n",
    "print('GradientBoost: AUROC = %.3f' % (cat_auc))"
   ]
  },
  {
   "cell_type": "code",
   "execution_count": 193,
   "id": "brief-leeds",
   "metadata": {},
   "outputs": [],
   "source": [
    "r_fpr, r_tpr, _ = roc_curve(y_test, r_probs)\n",
    "gb_clf1_fpr, gb_clf1_tpr, _ = roc_curve(y_test, gb_clf1_probs)\n",
    "cat_fpr, cat_tpr, _ = roc_curve(y_test, cat_probs)"
   ]
  },
  {
   "cell_type": "code",
   "execution_count": 194,
   "id": "included-ultimate",
   "metadata": {},
   "outputs": [
    {
     "data": {
      "image/png": "[encoded data removed]",
      "text/plain": [
       "<Figure size 432x288 with 1 Axes>"
      ]
     },
     "metadata": {
      "needs_background": "light"
     },
     "output_type": "display_data"
    }
   ],
   "source": [
    "plt.plot(r_fpr, r_tpr, linestyle='--', label='Random Prediction (AUROC = 0%.3F)' % r_auc)\n",
    "plt.plot(gb_clf1_fpr, gb_clf1_tpr, marker='.', label='GradientBoostClassifier(AUCROC = 0%.3F)' % gb_clf1_auc)\n",
    "plt.plot(gb_clf_fpr, gb_clf_tpr, marker='.', label='CatBoost (AUCROC= 0%.3F)' % cat_auc)\n",
    "\n",
    "#Title\n",
    "plt.title('ROC plot')\n",
    "#Axis Labels\n",
    "plt.xlabel('False positive Rate')\n",
    "plt.ylabel('True positive Rate')\n",
    "#Show legend\n",
    "plt.legend()\n",
    "#show plot\n",
    "plt.show()"
   ]
  },
  {
   "cell_type": "code",
   "execution_count": 195,
   "id": "adjacent-entrepreneur",
   "metadata": {},
   "outputs": [
    {
     "name": "stdout",
     "output_type": "stream",
     "text": [
      "XGB 0.860:\n",
      "CAT 0.851:\n"
     ]
    }
   ],
   "source": [
    "print ('XGB %.3f:' % gb_clf1_auc)\n",
    "print ('CAT %.3f:' % cat_auc)"
   ]
  }
 ],
 "metadata": {
  "kernelspec": {
   "display_name": "Python 3",
   "language": "python",
   "name": "python3"
  },
  "language_info": {
   "codemirror_mode": {
    "name": "ipython",
    "version": 3
   },
   "file_extension": ".py",
   "mimetype": "text/x-python",
   "name": "python",
   "nbconvert_exporter": "python",
   "pygments_lexer": "ipython3",
   "version": "3.8.7"
  }
 },
 "nbformat": 4,
 "nbformat_minor": 5
}
